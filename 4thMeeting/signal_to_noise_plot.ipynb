{
 "cells": [
  {
   "cell_type": "markdown",
   "metadata": {},
   "source": [
    "# For different sigmas you compute signal to noise"
   ]
  },
  {
   "cell_type": "code",
   "execution_count": 1,
   "metadata": {
    "collapsed": true
   },
   "outputs": [],
   "source": [
    "import numpy as np\n",
    "import _pickle as pickle\n",
    "import matplotlib.pyplot as plt\n",
    "import os\n",
    "from sklearn import metrics"
   ]
  },
  {
   "cell_type": "markdown",
   "metadata": {},
   "source": [
    "#files=['data_1.e+04.p', 'data_1.e-03.p', 'data_1.e-01.p', 'data_1.e+00.p', 'data_1.e-02.p', 'data_1.e-05.p']\n",
    "files=os.listdir('/home/beate/Dokumente/00. UNI/0.Stipendium/Kolleg/network_reconstruction/4.Treffen/cubicSimulDifferentNoiseLevel/Data/.')\n",
    "counter = -1\n",
    "#print(len(files))\n",
    "expa=np.zeros((10,13))\n",
    "for i in range(1,len(files)):\n",
    "    counter = counter + 1\n",
    "    with open(\"/home/beate/Dokumente/00. UNI/0.Stipendium/Kolleg/network_reconstruction/4.Treffen/cubicSimulDifferentNoiseLevel/Data/%s\"%files[i], \"rb\" ) as fd:\n",
    "        data=pickle.load(fd, fix_imports=True, encoding=\"latin1\")\n",
    "        C = np.asarray(data)\n",
    "        \n",
    "        \n",
    "        B=np.zeros((10,2000000))\n",
    "        for i in range(0,10):\n",
    "            a=C[:,i,:]\n",
    "            a=a.reshape(1,2000000)\n",
    "            B[i,:]=a\n",
    "        exp=np.zeros((10,10))\n",
    "        for j in range(0,10):\n",
    "            a=B[j,:]\n",
    "            for i in range(0,10):\n",
    "                b=B[i,:]\n",
    "                exp[i,j]=np.mean(np.multiply(b,a))\n",
    "        for k in range(0,10):\n",
    "            expa[counter,k]=exp[k,k] #diag elements\n",
    "        expa[counter,11]=exp[2,7] #not diag\n",
    "        expa[counter,12]=exp[6,8] #not diag\n"
   ]
  },
  {
   "cell_type": "markdown",
   "metadata": {},
   "source": [
    "#sigma=(100,10,0.01,0.1,0.001,1000,1e-5,100000,10000,0.001,1)\n",
    "sigma=(10,0.01,0.1,0.001,1000,1e-5,100000,10000,0.0001,1)\n",
    "sigma = np.asarray(sigma)\n",
    "sigma2=sigma**2\n",
    "print(sigma2)"
   ]
  },
  {
   "cell_type": "markdown",
   "metadata": {},
   "source": [
    "print(expa.shape)"
   ]
  },
  {
   "cell_type": "markdown",
   "metadata": {},
   "source": [
    "for i in range(0,10):\n",
    "    expa[i,:]=np.nan_to_num(expa[i,:], copy=True)\n",
    "    expa[i,:]=expa[i,:]/sigma2[i]\n",
    "print(expa.shape)"
   ]
  },
  {
   "cell_type": "markdown",
   "metadata": {},
   "source": [
    "print(expa.shape)"
   ]
  },
  {
   "cell_type": "code",
   "execution_count": null,
   "metadata": {
    "collapsed": true
   },
   "outputs": [],
   "source": []
  },
  {
   "cell_type": "markdown",
   "metadata": {},
   "source": [
    "sigma=(10,0.01,0.1,0.001,1000,1e-5,100000,10000,0.0001,1)\n",
    "#not functioning: sigma4,6,7\n",
    "sigma=(sigma[5],sigma[-2],sigma[3],sigma[1],sigma[2],sigma[-1],sigma[0])\n",
    "expanew=np.zeros((7,13))\n",
    "expanew[0,:]=expa[5,:]\n",
    "expanew[1,:]=expa[-2,:]\n",
    "expanew[2,:]=expa[3,:]\n",
    "expanew[3,:]=expa[1,:]\n",
    "expanew[4,:]=expa[2,:]\n",
    "expanew[5,:]=expa[-1,:]\n",
    "expanew[6,:]=expa[0,:]\n"
   ]
  },
  {
   "cell_type": "markdown",
   "metadata": {},
   "source": [
    "for i in range(0,13):\n",
    "    plt.plot(sigma,expanew[:,i])\n",
    "    plt.xscale('log')\n",
    "    plt.show()"
   ]
  },
  {
   "cell_type": "markdown",
   "metadata": {},
   "source": [
    "# Signal to noise for all off diag terms"
   ]
  },
  {
   "cell_type": "code",
   "execution_count": 2,
   "metadata": {},
   "outputs": [
    {
     "name": "stdout",
     "output_type": "stream",
     "text": [
      "('1.data_1e-05.p', '2.data_0.0001.p', '3.data_0.001.p', '4.data_0.01.p', '5.data_0.1.p', 'data_1.0.p', 'data_10.0.p', 'data_100.0.p')\n",
      "1.data_1e-05.p\n",
      "-0.0008\n",
      "2.data_0.0001.p\n",
      "-0.0064\n",
      "3.data_0.001.p\n",
      "-0.0509\n",
      "4.data_0.01.p\n",
      "-0.1983\n",
      "5.data_0.1.p\n",
      "-0.6548\n",
      "data_1.0.p\n",
      "-2.1802\n",
      "data_10.0.p\n",
      "-7.0963\n",
      "data_100.0.p\n",
      "-22.6642\n"
     ]
    }
   ],
   "source": [
    "#files=['data_1.e+04.p', 'data_1.e-03.p', 'data_1.e-01.p', 'data_1.e+00.p', 'data_1.e-02.p', 'data_1.e-05.p']\n",
    "files=os.listdir('/home/beate/Dokumente/00. UNI/0.Stipendium/Kolleg/network_reconstruction/4.Treffen/cubicSimulDifferentNoiseLevel/Data/.')\n",
    "#some are zeros: 1000,100000,10000 --> last 3 ones: , and 100 doesn't work for some reason files[5],files[8],files[7]\n",
    "files=(files[6],files[-2],files[4],files[2],files[3],files[-1],files[1],files[0])\n",
    "print(files)\n",
    "counter = 0\n",
    "#print(len(files))\n",
    "#expa=np.zeros((len(files),100-10)) #NxN matrix\n",
    "expadiag=np.zeros((len(files),10))\n",
    "for i in range(0,len(files)):\n",
    "    print(files[i])\n",
    "    with open(\"/home/beate/Dokumente/00. UNI/0.Stipendium/Kolleg/network_reconstruction/4.Treffen/cubicSimulDifferentNoiseLevel/Data/%s\"%files[i], \"rb\" ) as fd:\n",
    "        data=pickle.load(fd, fix_imports=True, encoding=\"latin1\")\n",
    "        C = np.asarray(data)\n",
    "        print(np.min(C))\n",
    "        #print(C)\n",
    "        B=np.zeros((10,2000000))\n",
    "        for p in range(10):\n",
    "            a=C[:,p,:]\n",
    "            a=a.reshape(1,2000000)\n",
    "            B[p,:]=a\n",
    "        exp=np.zeros((10,10))\n",
    "        for j in range(10):\n",
    "            a=B[j,:]\n",
    "            for r in range(10):\n",
    "                b=B[r,:]\n",
    "                exp[r,j]=np.mean(np.multiply(b,a))\n",
    "        for k in range(0,10):\n",
    "            expadiag[counter,k]=exp[k,k]\n",
    "            #for l in range(0,10):\n",
    "             #   expa[counter,k]=exp[k,l]\n",
    "            #expa[counter,k]=exp[k,k] #diag elements\n",
    "        counter = counter + 1\n",
    "        \n"
   ]
  },
  {
   "cell_type": "code",
   "execution_count": 3,
   "metadata": {},
   "outputs": [
    {
     "name": "stdout",
     "output_type": "stream",
     "text": [
      "[  1.00000000e-10   1.00000000e-08   1.00000000e-06   1.00000000e-04\n",
      "   1.00000000e-02   1.00000000e+00   1.00000000e+02   1.00000000e+04]\n"
     ]
    }
   ],
   "source": [
    "#sigma=[1e2,1e1,0.01,0.1,0.001,1000,1e-5,100000,10000,0.0001,1]\n",
    "sigma=[1e-5,1e-4,1e-3,1e-2,1e-1,1e0,1e1,1e2]\n",
    "sigma = np.asarray(sigma)\n",
    "sigma2=sigma**2\n",
    "#sigma2=1\n",
    "print(sigma2)"
   ]
  },
  {
   "cell_type": "code",
   "execution_count": 4,
   "metadata": {},
   "outputs": [
    {
     "name": "stdout",
     "output_type": "stream",
     "text": [
      "(8,)\n"
     ]
    }
   ],
   "source": [
    "print(sigma.shape)"
   ]
  },
  {
   "cell_type": "code",
   "execution_count": 9,
   "metadata": {},
   "outputs": [],
   "source": [
    "sigma=sigma.reshape(8,1)\n",
    "#expadiag[expadiag<1e-5]=0 ##because there an not be dynamiccs below that as we cut of at 10^-4\n",
    "E=np.divide(expadiag,sigma)\n"
   ]
  },
  {
   "cell_type": "markdown",
   "metadata": {},
   "source": [
    "O=np.zeros((11,11))\n",
    "O[:,1:]=E\n",
    "for i in range(0,11):\n",
    "    O[i,0]=sigma[i]\n",
    "#print(O)\n",
    "P=np.zeros((8,10))\n",
    "P[0,:]=O[6,1:]\n",
    "P[1,:]=O[-2,1:]\n",
    "P[2,:]=O[4,1:]\n",
    "P[3,:]=O[2,1:]\n",
    "P[4,:]=O[3,1:]\n",
    "P[5,:]=O[-1,1:]\n",
    "P[6,:]=O[1,1:]\n",
    "P[7,:]=O[0,1:]\n",
    "print(P.shape)"
   ]
  },
  {
   "cell_type": "code",
   "execution_count": 10,
   "metadata": {},
   "outputs": [
    {
     "data": {
      "image/png": "[encoded data removed]",
      "text/plain": [
       "<matplotlib.figure.Figure at 0x7fd0f0629c88>"
      ]
     },
     "metadata": {},
     "output_type": "display_data"
    },
    {
     "data": {
      "text/plain": [
       "<matplotlib.figure.Figure at 0x7fd0f09c6400>"
      ]
     },
     "metadata": {},
     "output_type": "display_data"
    }
   ],
   "source": [
    "#for i in range(0,10):\n",
    " #   plt.plot(sigma,expa[:,i])\n",
    "#plt.xlim(1e-3,1e2)\n",
    "#plt.ylim(0,60)\n",
    "#plt.xscale('log')\n",
    "#plt.show()\n",
    "#sigma=[1e-5,1e-4,1e-3,1e-2,1e-1,1e0,1e1,1e2]\n",
    "#sigma = np.asarray(sigma)\n",
    "for i in range(0,8):\n",
    "    plt.plot(sigma,E)\n",
    "#plt.xlim(1e-3,1e2)\n",
    "#plt.ylim(0,60)\n",
    "plt.xscale('log')\n",
    "plt.figure(figsize=(200,70))\n",
    "plt.show()"
   ]
  },
  {
   "cell_type": "code",
   "execution_count": null,
   "metadata": {},
   "outputs": [],
   "source": [
    "print(files)"
   ]
  },
  {
   "cell_type": "code",
   "execution_count": null,
   "metadata": {
    "collapsed": true
   },
   "outputs": [],
   "source": []
  }
 ],
 "metadata": {
  "kernelspec": {
   "display_name": "Python 3",
   "language": "python",
   "name": "python3"
  },
  "language_info": {
   "codemirror_mode": {
    "name": "ipython",
    "version": 3
   },
   "file_extension": ".py",
   "mimetype": "text/x-python",
   "name": "python",
   "nbconvert_exporter": "python",
   "pygments_lexer": "ipython3",
   "version": "3.6.9"
  }
 },
 "nbformat": 4,
 "nbformat_minor": 2
}
