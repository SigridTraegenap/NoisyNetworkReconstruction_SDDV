{
 "cells": [
  {
   "cell_type": "code",
   "execution_count": 1,
   "metadata": {},
   "outputs": [],
   "source": [
    "from os.path import abspath, sep, pardir\n",
    "import sys\n",
    "sys.path.append(abspath('') + sep + pardir + sep )\n",
    "import MPL_style"
   ]
  },
  {
   "cell_type": "code",
   "execution_count": 2,
   "metadata": {},
   "outputs": [],
   "source": [
    "def find(s, ch):\n",
    "    return [i for i, ltr in enumerate(s) if ltr == ch]\n",
    "pwd_p=abspath('')\n",
    "idxs=find(pwd_p, sep)\n",
    "path_GIT=pwd_p[:idxs[-2]] + sep"
   ]
  },
  {
   "cell_type": "code",
   "execution_count": 3,
   "metadata": {},
   "outputs": [],
   "source": [
    "import matplotlib.pyplot as plt\n",
    "import numpy as np\n",
    "import scipy.stats as stats\n",
    "import scipy.io as sio"
   ]
  },
  {
   "cell_type": "markdown",
   "metadata": {},
   "source": [
    "summary_wo_noise_2palg.mat\n",
    "summary_2palg_precisionaddnoise_S1e-01.mat\n",
    "summary_2palg_precisionround_S1e-01.mat\n",
    "summary_2palg_precisionfull_S1e-01.mat\n",
    "summary_w_noise_2palg.mat"
   ]
  },
  {
   "cell_type": "code",
   "execution_count": 4,
   "metadata": {},
   "outputs": [],
   "source": [
    "isim=1  #index for network instance"
   ]
  },
  {
   "cell_type": "markdown",
   "metadata": {},
   "source": [
    "### plot original connectivity matrix"
   ]
  },
  {
   "cell_type": "code",
   "execution_count": 6,
   "metadata": {},
   "outputs": [],
   "source": [
    "W_orig=sio.loadmat(path_GIT+\"proof_of_concept/strawman wo noise/simulations/\"+\n",
    "       \"data_linear_T100_dt1e-03_Nnodes30_Nincoming5_sigma1e-01wo_noise_I{}.mat\".format(isim))[\"adjacency\"]\n"
   ]
  },
  {
   "cell_type": "code",
   "execution_count": 7,
   "metadata": {},
   "outputs": [],
   "source": [
    "from matplotlib.collections import PatchCollection\n",
    "from matplotlib.patches import Rectangle"
   ]
  },
  {
   "cell_type": "code",
   "execution_count": 8,
   "metadata": {},
   "outputs": [
    {
     "data": {
      "image/png": "[encoded data removed]",
      "text/plain": [
       "<Figure size 432x360 with 1 Axes>"
      ]
     },
     "metadata": {
      "needs_background": "light"
     },
     "output_type": "display_data"
    }
   ],
   "source": [
    "fig=plt.figure(figsize=(6,5))\n",
    "plt.subplots_adjust(bottom=0.05, left=0.05, top=0.95)\n",
    "ax=plt.subplot(111)\n",
    "plt.imshow(W_orig, cmap=\"binary\")\n",
    "#plt.colorbar()\n",
    "plt.axis(\"off\")\n",
    "plt.axhline(-0.5, color=\"k\")\n",
    "plt.axhline(30, color=\"k\")\n",
    "plt.axvline(-0.5, color=\"k\")\n",
    "plt.axvline(30, color=\"k\")\n",
    "plt.axis([-0.5, 30, -.5, 30])\n",
    "plt.show()\n",
    "fig.savefig(\"W_orig.pdf\", dpi=200)"
   ]
  },
  {
   "cell_type": "code",
   "execution_count": null,
   "metadata": {},
   "outputs": [],
   "source": [
    "### time series with noise"
   ]
  },
  {
   "cell_type": "code",
   "execution_count": 9,
   "metadata": {},
   "outputs": [],
   "source": [
    "x_all_wo=sio.loadmat(path_GIT+\"proof_of_concept/strawman wo noise/simulations/\"+\n",
    "       \"data_linear_T100_dt1e-03_Nnodes30_Nincoming5_sigma1e-01wo_noise_I{}.mat\".format(isim))[\"x_all\"]\n",
    "x_all_w=sio.loadmat(path_GIT+\"proof_of_concept/strawman wo noise/simulations/\"+\n",
    "       \"data_linear_T100_dt1e-03_Nnodes30_Nincoming5_sigma1e-01w_noise_I{}.mat\".format(isim))[\"x_all\"]\n"
   ]
  },
  {
   "cell_type": "code",
   "execution_count": 27,
   "metadata": {},
   "outputs": [
    {
     "name": "stdout",
     "output_type": "stream",
     "text": [
      "[29  0  4]\n"
     ]
    },
    {
     "data": {
      "text/plain": [
       "<Figure size 432x288 with 0 Axes>"
      ]
     },
     "metadata": {},
     "output_type": "display_data"
    },
    {
     "data": {
      "image/png": "[encoded data removed]",
      "text/plain": [
       "<Figure size 432x288 with 2 Axes>"
      ]
     },
     "metadata": {
      "needs_background": "light"
     },
     "output_type": "display_data"
    }
   ],
   "source": [
    "Tmax=250\n",
    "Nseries=3\n",
    "dt=1e-3\n",
    "time=np.arange(Tmax)*dt\n",
    "alphas=np.linspace(0.3, 1, Nseries)\n",
    "idxs=np.random.choice(x_all_wo.shape[0], Nseries, replace=False)\n",
    "print(idxs)\n",
    "fig=plt.figure()\n",
    "\n",
    "fig, (ax1, ax2) = plt.subplots(nrows=2, sharex=True, sharey=True)\n",
    "plt.subplots_adjust( bottom=0.18, top=0.95, left=0.15)\n",
    "for i in range(Nseries):\n",
    "    ax1.plot(time,x_all_wo[idxs[i],:Tmax].T, color=\"C0\", alpha=alphas[i])\n",
    "    ax2.plot(time,x_all_w[idxs[i],:Tmax].T,  color=\"C1\", alpha=alphas[i])\n",
    "plt.xlabel(\"time [s]\")\n",
    "ax1.set_ylabel(\"$x_i(t)$\")\n",
    "ax2.set_ylabel(\"$x_i(t)$\")\n",
    "plt.show()\n",
    "fig.savefig(\"timeseries.pdf\", dpi=200)"
   ]
  },
  {
   "cell_type": "code",
   "execution_count": 64,
   "metadata": {},
   "outputs": [],
   "source": [
    "## reconstructed connectivity matrices\n",
    "W_all_wo=sio.loadmat(path_GIT+\"proof_of_concept/strawman wo noise/simulations/\"+\n",
    "       \"summary_wo_noise_nextstepalg.mat\")[\"all_dfs\"][isim]\n",
    "W_all_w=sio.loadmat(path_GIT+\"proof_of_concept/strawman wo noise/simulations/\"+\n",
    "       \"summary_w_noise_nextstepalg.mat\")[\"all_dfs\"][isim]\n",
    "auc_w=sio.loadmat(path_GIT+\"proof_of_concept/strawman wo noise/simulations/\"+\n",
    "       \"summary_w_noise_nextstepalg.mat\")[\"all_AUCS\"]"
   ]
  },
  {
   "cell_type": "code",
   "execution_count": 66,
   "metadata": {},
   "outputs": [
    {
     "data": {
      "text/plain": [
       "array([[0.96137382],\n",
       "       [0.96157993],\n",
       "       [0.95883051],\n",
       "       [0.96797442],\n",
       "       [0.9534759 ],\n",
       "       [0.94370867],\n",
       "       [0.95965345],\n",
       "       [0.96323721],\n",
       "       [0.95315789],\n",
       "       [0.9467367 ],\n",
       "       [0.96281541],\n",
       "       [0.9599851 ],\n",
       "       [0.9701393 ],\n",
       "       [0.94309203],\n",
       "       [0.96711347],\n",
       "       [0.95081069],\n",
       "       [0.96648014],\n",
       "       [0.95581556],\n",
       "       [0.93309302],\n",
       "       [0.95111915],\n",
       "       [0.95651455],\n",
       "       [0.956878  ],\n",
       "       [0.96272624],\n",
       "       [0.97038625],\n",
       "       [0.94655717],\n",
       "       [0.96315586],\n",
       "       [0.9705596 ],\n",
       "       [0.94532998],\n",
       "       [0.95743251],\n",
       "       [0.95773464],\n",
       "       [0.95832274],\n",
       "       [0.95989039],\n",
       "       [0.96206963],\n",
       "       [0.95476182],\n",
       "       [0.97719778],\n",
       "       [0.95435608],\n",
       "       [0.95051624],\n",
       "       [0.9548703 ],\n",
       "       [0.96062059],\n",
       "       [0.95008628],\n",
       "       [0.94768006],\n",
       "       [0.96527974],\n",
       "       [0.95438029],\n",
       "       [0.96156571],\n",
       "       [0.95111006],\n",
       "       [0.9684928 ],\n",
       "       [0.95077344],\n",
       "       [0.96941768],\n",
       "       [0.96225439],\n",
       "       [0.95918703]])"
      ]
     },
     "execution_count": 66,
     "metadata": {},
     "output_type": "execute_result"
    }
   ],
   "source": [
    "auc_w"
   ]
  },
  {
   "cell_type": "code",
   "execution_count": 72,
   "metadata": {},
   "outputs": [
    {
     "data": {
      "image/png": "[encoded data removed]",
      "text/plain": [
       "<Figure size 324x648 with 2 Axes>"
      ]
     },
     "metadata": {
      "needs_background": "light"
     },
     "output_type": "display_data"
    }
   ],
   "source": [
    "fig, (ax1, ax2) = plt.subplots(nrows=2, sharex=True, figsize=(4.5,9))\n",
    "\n",
    "ax1.axis(\"off\")\n",
    "image = np.empty(shape=(W_all_w.shape[0]+2, W_all_w.shape[1]+2))*np.nan\n",
    "image[1:-1, 1:-1] = W_orig\n",
    "image2 = np.empty(shape=(W_all_w.shape[0]+2, W_all_w.shape[1]+2))*np.nan\n",
    "image2[1:-1, 1:-1] = W_all_wo\n",
    "f = lambda x,y: image[int(y),int(x) ]\n",
    "g = np.vectorize(f)\n",
    "x = np.linspace(0,image.shape[1], image.shape[1]*100)\n",
    "y = np.linspace(0,image.shape[0], image.shape[0]*100)\n",
    "X, Y= np.meshgrid(x[:-1],y[:-1])\n",
    "Z = g(X[:-1],Y[:-1])\n",
    "\n",
    "ax1.imshow(image2[::-1], origin=\"lower\", interpolation=\"none\", cmap=\"gray_r\")\n",
    "ax1.contour(Z[::-1], [0.5], colors='r', linewidths=[1], \n",
    "            extent=[0-0.5, x[:-1].max()-0.5,0-0.5, y[:-1].max()-0.5])\n",
    "\n",
    "#with noise\n",
    "ax2.axis(\"off\")\n",
    "image = np.empty(shape=(W_all_w.shape[0]+2, W_all_w.shape[1]+2))*np.nan\n",
    "image[1:-1, 1:-1] = W_orig\n",
    "image2 = np.empty(shape=(W_all_w.shape[0]+2, W_all_w.shape[1]+2))*np.nan\n",
    "image2[1:-1, 1:-1] = W_all_w\n",
    "f = lambda x,y: image[int(y),int(x) ]\n",
    "g = np.vectorize(f)\n",
    "x = np.linspace(0,image.shape[1], image.shape[1]*100)\n",
    "y = np.linspace(0,image.shape[0], image.shape[0]*100)\n",
    "X, Y= np.meshgrid(x[:-1],y[:-1])\n",
    "Z = g(X[:-1],Y[:-1])\n",
    "\n",
    "ax2.imshow(image2[::-1], origin=\"lower\", interpolation=\"none\", cmap=\"gray_r\")\n",
    "ax2.contour(Z[::-1], [0.5], colors='r', linewidths=[1], \n",
    "            extent=[0-0.5, x[:-1].max()-0.5,0-0.5, y[:-1].max()-0.5])\n",
    "\n",
    "plt.show()\n",
    "fig.savefig(\"reconstructed_conn.pdf\", dpi=500)"
   ]
  },
  {
   "cell_type": "code",
   "execution_count": null,
   "metadata": {},
   "outputs": [],
   "source": []
  },
  {
   "cell_type": "markdown",
   "metadata": {},
   "source": [
    "#### A=sio.loadmat(path_GIT+\"proof_of_concept/strawman wo noise/simulations/summary_wo_noise_2palg.mat\")"
   ]
  },
  {
   "cell_type": "markdown",
   "metadata": {},
   "source": [
    "import matplotlib.font_manager\n",
    "from IPython.core.display import HTML\n",
    "\n",
    "def make_html(fontname):\n",
    "    return \"<p>{font}: <span style='font-family:{font}; font-size: 24px;'>{font}</p>\".format(font=fontname)\n",
    "\n",
    "code = \"\\n\".join([make_html(font) for font in sorted(set([f.name for f in matplotlib.font_manager.fontManager.ttflist]))])\n",
    "\n",
    "HTML(\"<div style='column-count: 2;'>{}</div>\".format(code))"
   ]
  },
  {
   "cell_type": "code",
   "execution_count": null,
   "metadata": {},
   "outputs": [],
   "source": []
  }
 ],
 "metadata": {
  "kernelspec": {
   "display_name": "Python 2",
   "language": "python",
   "name": "python2"
  },
  "language_info": {
   "codemirror_mode": {
    "name": "ipython",
    "version": 2
   },
   "file_extension": ".py",
   "mimetype": "text/x-python",
   "name": "python",
   "nbconvert_exporter": "python",
   "pygments_lexer": "ipython2",
   "version": "2.7.16"
  }
 },
 "nbformat": 4,
 "nbformat_minor": 2
}
