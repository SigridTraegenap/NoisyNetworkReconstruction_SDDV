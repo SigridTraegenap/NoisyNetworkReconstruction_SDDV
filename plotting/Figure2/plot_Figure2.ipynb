{
 "cells": [
  {
   "cell_type": "markdown",
   "metadata": {},
   "source": [
    "Aim: \n",
    "- Plot Timeseries with clear discretization = precision\n",
    "- Figure with network + noise\n",
    "\n",
    "- plot AUC vs noise for 10^-1 and 10^-5\n",
    "    - full precision\n",
    "    - limited precision\n",
    "    - noise \n",
    "  \n",
    "\n",
    "!!! find files in NoisyNetworkReconstruction_SDDVproof_of_concept/precisiontestsimulations\n"
   ]
  },
  {
   "cell_type": "code",
   "execution_count": 1,
   "metadata": {},
   "outputs": [],
   "source": [
    "from os.path import abspath, sep, pardir\n",
    "import sys\n",
    "sys.path.append(abspath('') + sep + pardir + sep )\n",
    "import MPL_style"
   ]
  },
  {
   "cell_type": "code",
   "execution_count": 2,
   "metadata": {},
   "outputs": [],
   "source": [
    "def find(s, ch):\n",
    "    return [i for i, ltr in enumerate(s) if ltr == ch]\n",
    "pwd_p=abspath('')\n",
    "idxs=find(pwd_p, sep)\n",
    "path_GIT=pwd_p[:idxs[-2]] + sep"
   ]
  },
  {
   "cell_type": "code",
   "execution_count": 3,
   "metadata": {},
   "outputs": [],
   "source": [
    "import matplotlib.pyplot as plt\n",
    "import numpy as np\n",
    "import scipy.stats as stats\n",
    "import scipy.io as sio"
   ]
  },
  {
   "cell_type": "markdown",
   "metadata": {},
   "source": [
    "# Plot AUC vs Noise"
   ]
  },
  {
   "cell_type": "code",
   "execution_count": 4,
   "metadata": {},
   "outputs": [],
   "source": [
    "#data with maximal precision\n",
    "#W_max = maximal precision\n",
    "#W_prec = limited precision \n",
    "#W_noi = data with noise in range of precision \n",
    "W_max_1 = sio.loadmat(path_GIT+\"proof_of_concept/precisiontest/simulations/\"+\n",
    "       \"summary_2palg_precisionfull_S1e-01.mat\")[\"all_AUCS\"] #\"all Aucs\" prevents useless data info to be printed\n",
    "W_max_2 = sio.loadmat(path_GIT+\"proof_of_concept/precisiontest/simulations/\"+\n",
    "       \"summary_2palg_precisionfull_S1e-05.mat\")[\"all_AUCS\"]\n",
    "W_prec_1 = sio.loadmat(path_GIT+\"proof_of_concept/precisiontest/simulations/\"+\n",
    "       \"summary_2palg_precisionround_S1e-01.mat\")[\"all_AUCS\"]\n",
    "W_prec_2 = sio.loadmat(path_GIT+\"proof_of_concept/precisiontest/simulations/\"+\n",
    "       \"summary_2palg_precisionaddnoise_S1e-01.mat\")[\"all_AUCS\"]\n",
    "W_noi_1 = sio.loadmat(path_GIT+\"proof_of_concept/precisiontest/simulations/\"+\n",
    "       \"summary_2palg_precisionround_S1e-05.mat\")[\"all_AUCS\"]\n",
    "W_noi_2 = sio.loadmat(path_GIT+\"proof_of_concept/precisiontest/simulations/\"+\n",
    "       \"summary_2palg_precisionaddnoise_S1e-05.mat\")[\"all_AUCS\"]"
   ]
  },
  {
   "cell_type": "markdown",
   "metadata": {},
   "source": [
    "### easy plot with mean\n"
   ]
  },
  {
   "cell_type": "code",
   "execution_count": null,
   "metadata": {},
   "outputs": [],
   "source": [
    "Max1=np.mean(W_max_1)\n",
    "Max2=np.mean(W_max_2)\n",
    "Prec1=np.mean(W_prec_1)\n",
    "Prec2=np.mean(W_prec_2)\n",
    "Noi1=np.mean(W_noi_1)\n",
    "Noi2=np.mean(W_noi_2)"
   ]
  },
  {
   "cell_type": "code",
   "execution_count": null,
   "metadata": {},
   "outputs": [],
   "source": [
    "noise=[10**-1,10**-5]"
   ]
  },
  {
   "cell_type": "code",
   "execution_count": null,
   "metadata": {},
   "outputs": [],
   "source": [
    "plt.plot(noise,[Max1,Max2],'.',color='red')\n",
    "plt.plot(noise,[Prec1,Prec2],'.',color='blue')\n",
    "plt.plot(noise,[Noi1,Noi2],'.',color='green')\n",
    "plt.xscale('log')\n",
    "plt.ylabel('AUC')\n",
    "plt.xlabel('ln(sigma)')\n",
    "plt.show()"
   ]
  },
  {
   "cell_type": "code",
   "execution_count": null,
   "metadata": {},
   "outputs": [],
   "source": [
    "s=np.zeros(np.size(W_max_1))\n",
    "for i in range(0,np.size(W_max_1)):\n",
    "    s[i]=10**-1\n",
    "plt.plot(s,W_max_1,'.')"
   ]
  },
  {
   "cell_type": "code",
   "execution_count": 5,
   "metadata": {},
   "outputs": [],
   "source": [
    "import seaborn as sns\n"
   ]
  },
  {
   "cell_type": "code",
   "execution_count": null,
   "metadata": {},
   "outputs": [],
   "source": [
    "df = sns.load_dataset('iris')\n",
    " \n",
    "# Make boxplot for one group only\n",
    "sns.violinplot(y=[W_max_1,W_max_2] )\n",
    "#sns.plt.show()\n"
   ]
  },
  {
   "cell_type": "code",
   "execution_count": null,
   "metadata": {},
   "outputs": [],
   "source": [
    "df = sns.load_dataset('tips')\n",
    " \n",
    "# Grouped violinplot\n",
    "sns.violinplot(x=\"day\", y=\"total_bill\", hue=\"smoker\", data=df, palette=\"Pastel1\")\n",
    "#sns.plt.show()\n"
   ]
  },
  {
   "cell_type": "code",
   "execution_count": null,
   "metadata": {},
   "outputs": [],
   "source": [
    "print(df)"
   ]
  },
  {
   "cell_type": "code",
   "execution_count": 6,
   "metadata": {},
   "outputs": [],
   "source": [
    "import pandas as pd"
   ]
  },
  {
   "cell_type": "code",
   "execution_count": null,
   "metadata": {},
   "outputs": [],
   "source": [
    "noise1=np.zeros(np.size(W_max_1))\n",
    "noise2=np.zeros(np.size(W_max_1))\n",
    "for i in range(0,np.size(W_max_1)):\n",
    "    noise1[i]=10**-1\n",
    "    noise2[i]=10**-5"
   ]
  },
  {
   "cell_type": "code",
   "execution_count": null,
   "metadata": {},
   "outputs": [],
   "source": [
    "noise=np.concatenate([noise2,noise1])\n",
    "W_max_2=np.concatenate(W_max_2)\n",
    "W_max_1=np.concatenate(W_max_1)\n",
    "AUC=np.concatenate([W_max_2,W_max_1])\n",
    "AUC=AUC.tolist()\n",
    "noise=noise.tolist() #for dic file you need a list"
   ]
  },
  {
   "cell_type": "code",
   "execution_count": null,
   "metadata": {},
   "outputs": [],
   "source": [
    "print(noise)"
   ]
  },
  {
   "cell_type": "code",
   "execution_count": null,
   "metadata": {},
   "outputs": [],
   "source": [
    "d = {'AUC': AUC, 'noise': noise} #create dic file"
   ]
  },
  {
   "cell_type": "code",
   "execution_count": null,
   "metadata": {},
   "outputs": [],
   "source": [
    "a=pd.DataFrame.from_dict(data=d)"
   ]
  },
  {
   "cell_type": "code",
   "execution_count": null,
   "metadata": {},
   "outputs": [],
   "source": [
    "print(a)"
   ]
  },
  {
   "cell_type": "code",
   "execution_count": null,
   "metadata": {},
   "outputs": [],
   "source": [
    "sns.violinplot(x=\"noise\", y=\"AUC\", data=a, palette=\"Pastel1\")"
   ]
  },
  {
   "cell_type": "markdown",
   "metadata": {},
   "source": [
    "for all"
   ]
  },
  {
   "cell_type": "code",
   "execution_count": null,
   "metadata": {},
   "outputs": [],
   "source": [
    "noise1=np.zeros(np.size(W_max_1)*3)\n",
    "noise2=np.zeros(np.size(W_max_1)*3)\n",
    "for i in range(0,np.size(W_max_1)*3):\n",
    "    noise1[i]=10**-1\n",
    "    noise2[i]=10**-5"
   ]
  },
  {
   "cell_type": "code",
   "execution_count": 7,
   "metadata": {},
   "outputs": [],
   "source": [
    "noise1=np.zeros(np.size(W_max_1))\n",
    "noise2=np.zeros(np.size(W_max_1))\n",
    "for i in range(0,np.size(W_max_1)):\n",
    "    noise1[i]=10**-1\n",
    "    noise2[i]=10**-5"
   ]
  },
  {
   "cell_type": "code",
   "execution_count": 8,
   "metadata": {},
   "outputs": [],
   "source": [
    "noise=np.concatenate([noise2,noise1,noise2,noise1,noise2,noise1])\n",
    "W_max_2=np.concatenate(W_max_2)\n",
    "W_max_1=np.concatenate(W_max_1)\n",
    "W_prec_1=np.concatenate(W_prec_1)\n",
    "W_prec_2=np.concatenate(W_prec_2)\n",
    "W_noi_1=np.concatenate(W_noi_1)\n",
    "W_noi_2=np.concatenate(W_noi_2)\n",
    "AUC=np.concatenate([W_max_2,W_max_1,W_prec_1,W_prec_2,W_noi_1,W_noi_2])\n",
    "AUC=AUC.tolist()\n",
    "noise=noise.tolist() #for dic file you need a list"
   ]
  },
  {
   "cell_type": "code",
   "execution_count": 99,
   "metadata": {},
   "outputs": [],
   "source": [
    "def namelist(n,name):\n",
    "    return [name for i in range(n)]\n",
    "name1=namelist(100,'maximal precision')\n",
    "name2=namelist(100,'precision of 3 digits')\n",
    "name3=namelist(100,'noise of $10^{-4}$')\n",
    "\n",
    "name=np.concatenate([name1,name2,name3])\n",
    "name=name.tolist()"
   ]
  },
  {
   "cell_type": "code",
   "execution_count": 100,
   "metadata": {},
   "outputs": [],
   "source": [
    "d = {'AUC': AUC, 'noise': noise,'dataset' : name} "
   ]
  },
  {
   "cell_type": "code",
   "execution_count": 112,
   "metadata": {},
   "outputs": [
    {
     "data": {
      "image/png": "[encoded data removed]",
      "text/plain": [
       "<Figure size 936x720 with 1 Axes>"
      ]
     },
     "metadata": {},
     "output_type": "display_data"
    }
   ],
   "source": [
    "sns.set(style=\"ticks\")\n",
    "fig, ax = plt.subplots(figsize=(13,10))\n",
    "sns.violinplot(ax=ax,x=\"noise\", y=\"AUC\", hue=\"dataset\", width=0.3,dodge=True,data=d, palette=\"colorblind\",legend_out=False)\n",
    "ax.legend(loc=3,prop={'size': 13})\n",
    "ax.set(xlabel='noise', ylabel='AUC')\n",
    "ax.set_title('Plot of the AUC level for full precision, limited precision and noise', fontdict={'fontsize': 12, 'fontweight': 'medium'})\n",
    "#the dodge False will all put them int he same bin, but then you don't see0,1\n",
    "ax.axvline(x=0.5,color='black',linestyle='--',alpha=0.4)\n",
    "\n",
    "ax.tick_params(\n",
    "    axis='x',          # changes apply to the x-axis\n",
    "    which='both',      # both major and minor ticks are affected\n",
    "    bottom=False,      # ticks along the bottom edge are off\n",
    "    top=False,         # ticks along the top edge are off\n",
    "    labelbottom=True) # labels along the bottom edge are off"
   ]
  },
  {
   "cell_type": "code",
   "execution_count": 123,
   "metadata": {},
   "outputs": [],
   "source": [
    "fig.savefig('/home/beate/LocalGitHubNetworkKolleg/NoisyNetworkReconstruction_SDDV/plotting/Figure2/AUC_vs_PrecisionQuestion.pdf')"
   ]
  },
  {
   "cell_type": "code",
   "execution_count": 124,
   "metadata": {},
   "outputs": [],
   "source": [
    "#vectorgraphic\n",
    "fig.savefig('/home/beate/LocalGitHubNetworkKolleg/NoisyNetworkReconstruction_SDDV/plotting/Figure2/AUC_vs_PrecisionQuestion.svg')"
   ]
  },
  {
   "cell_type": "code",
   "execution_count": null,
   "metadata": {},
   "outputs": [],
   "source": []
  }
 ],
 "metadata": {
  "kernelspec": {
   "display_name": "Python 3",
   "language": "python",
   "name": "python3"
  },
  "language_info": {
   "codemirror_mode": {
    "name": "ipython",
    "version": 3
   },
   "file_extension": ".py",
   "mimetype": "text/x-python",
   "name": "python",
   "nbconvert_exporter": "python",
   "pygments_lexer": "ipython3",
   "version": "3.7.4"
  }
 },
 "nbformat": 4,
 "nbformat_minor": 2
}
